{
 "cells": [
  {
   "cell_type": "code",
   "execution_count": 1,
   "metadata": {},
   "outputs": [],
   "source": [
    "import sympy\n",
    "sympy.init_printing()"
   ]
  },
  {
   "cell_type": "markdown",
   "metadata": {},
   "source": [
    "[Link to paper](http://articles.adsabs.harvard.edu/pdf/1979IAUS...83..401T)"
   ]
  },
  {
   "cell_type": "code",
   "execution_count": 9,
   "metadata": {},
   "outputs": [
    {
     "data": {
      "image/png": "[encoded data removed]",
      "text/latex": [
       "$\\displaystyle \\frac{\\sqrt{G} m \\operatorname{M_{r}}{\\left(t \\right)} \\sqrt{R{\\left(t \\right)}}}{\\sqrt{m + \\operatorname{M_{r}}{\\left(t \\right)}}}$"
      ],
      "text/plain": [
       "             ______\n",
       "√G⋅m⋅Mᵣ(t)⋅╲╱ R(t) \n",
       "───────────────────\n",
       "     ___________   \n",
       "   ╲╱ m + Mᵣ(t)    "
      ]
     },
     "execution_count": 9,
     "metadata": {},
     "output_type": "execute_result"
    }
   ],
   "source": [
    "m = sympy.Symbol('m', positive=True) # Mass of the compact object\n",
    "t = sympy.Symbol('t', positive=True) # Time\n",
    "M_r = sympy.Function('M_r', positive=True) # Primary mass\n",
    "G = sympy.Symbol('G', positive=True) # Gravitation constant\n",
    "R = sympy.Function('R', positive=True) # Separation between centres\n",
    "eqn_1 = m*M_r(t)*sympy.sqrt(G*R(t)/(m+M_r(t)))\n",
    "eqn_1"
   ]
  },
  {
   "cell_type": "code",
   "execution_count": 10,
   "metadata": {},
   "outputs": [
    {
     "data": {
      "image/png": "[encoded data removed]",
      "text/latex": [
       "$\\displaystyle \\frac{\\alpha \\omega \\phi \\operatorname{M_{r}}^{2}{\\left(t \\right)} R^{2}{\\left(t \\right)} \\frac{d}{d t} \\operatorname{M_{r}}{\\left(t \\right)}}{\\left(m + \\operatorname{M_{r}}{\\left(t \\right)}\\right)^{2}}$"
      ],
      "text/plain": [
       "        2     2    d        \n",
       "α⋅ω⋅φ⋅Mᵣ (t)⋅R (t)⋅──(Mᵣ(t))\n",
       "                   dt       \n",
       "────────────────────────────\n",
       "                   2        \n",
       "        (m + Mᵣ(t))         "
      ]
     },
     "execution_count": 10,
     "metadata": {},
     "output_type": "execute_result"
    }
   ],
   "source": [
    "phi = sympy.Symbol('phi', positive=True) # Dimensionless frequency\n",
    "omega = sympy.Symbol('omega', positive=True) # Keplerian frequency\n",
    "alpha = sympy.Symbol('alpha', positive=True) # Torque efficiency\n",
    "eqn_2 = alpha*M_r(t).diff(t)*phi*omega*R(t)**2*M_r(t)**2/(M_r(t)+m)**2\n",
    "eqn_2"
   ]
  },
  {
   "cell_type": "code",
   "execution_count": 22,
   "metadata": {},
   "outputs": [
    {
     "data": {
      "image/png": "[encoded data removed]",
      "text/latex": [
       "$\\displaystyle \\frac{\\left(2 \\alpha \\phi \\operatorname{M_{r}}^{2}{\\left(t \\right)} - 2 m^{2} - m \\operatorname{M_{r}}{\\left(t \\right)}\\right) \\frac{d}{d t} \\operatorname{M_{r}}{\\left(t \\right)}}{m \\left(m + \\operatorname{M_{r}}{\\left(t \\right)}\\right) \\operatorname{M_{r}}{\\left(t \\right)}}$"
      ],
      "text/plain": [
       "⎛        2         2          ⎞ d        \n",
       "⎝2⋅α⋅φ⋅Mᵣ (t) - 2⋅m  - m⋅Mᵣ(t)⎠⋅──(Mᵣ(t))\n",
       "                                dt       \n",
       "─────────────────────────────────────────\n",
       "           m⋅(m + Mᵣ(t))⋅Mᵣ(t)           "
      ]
     },
     "execution_count": 22,
     "metadata": {},
     "output_type": "execute_result"
    }
   ],
   "source": [
    "temp = eqn_1.diff(t)\n",
    "temp = temp - eqn_2\n",
    "temp = sympy.solve(temp, R(t).diff(t))[0]/R(t)\n",
    "temp = temp.subs(omega, sympy.sqrt(G*(m+M_r(t))/R(t)**3))\n",
    "temp = temp.simplify()\n",
    "eqn_3 = temp\n",
    "eqn_3"
   ]
  },
  {
   "cell_type": "code",
   "execution_count": 65,
   "metadata": {},
   "outputs": [
    {
     "data": {
      "image/png": "[encoded data removed]",
      "text/latex": [
       "$\\displaystyle 4 \\pi \\rho \\left(- v + \\frac{d}{d t} R{\\left(t \\right)}\\right) R^{2}{\\left(t \\right)}$"
      ],
      "text/plain": [
       "      ⎛     d       ⎞  2   \n",
       "4⋅π⋅ρ⋅⎜-v + ──(R(t))⎟⋅R (t)\n",
       "      ⎝     dt      ⎠      "
      ]
     },
     "execution_count": 65,
     "metadata": {},
     "output_type": "execute_result"
    }
   ],
   "source": [
    "rho = sympy.Symbol('rho', positive=True) # Stellar density\n",
    "v = sympy.Symbol('v', positive=True) # Stellar envelope expansion velocity\n",
    "M_r_dot_expr = 4*sympy.pi*rho*R(t)**2*(R(t).diff(t)-v)\n",
    "M_r_dot_expr"
   ]
  },
  {
   "cell_type": "code",
   "execution_count": 66,
   "metadata": {},
   "outputs": [
    {
     "data": {
      "image/png": "[encoded data removed]",
      "text/latex": [
       "$\\displaystyle \\left\\{ \\frac{d}{d t} \\operatorname{M_{r}}{\\left(t \\right)} : - \\frac{4 \\pi m \\rho v \\left(m + \\operatorname{M_{r}}{\\left(t \\right)}\\right) \\operatorname{M_{r}}{\\left(t \\right)} R^{2}{\\left(t \\right)}}{m^{2} \\operatorname{M_{r}}{\\left(t \\right)} + m \\operatorname{M_{r}}^{2}{\\left(t \\right)} + 4 \\pi \\rho \\left(- 2 \\alpha \\phi \\operatorname{M_{r}}^{2}{\\left(t \\right)} + 2 m^{2} + m \\operatorname{M_{r}}{\\left(t \\right)}\\right) R^{3}{\\left(t \\right)}}, \\  \\frac{d}{d t} R{\\left(t \\right)} : \\frac{4 \\pi \\rho v \\left(- 2 \\alpha \\phi \\operatorname{M_{r}}^{2}{\\left(t \\right)} + 2 m^{2} + m \\operatorname{M_{r}}{\\left(t \\right)}\\right) R^{3}{\\left(t \\right)}}{m^{2} \\operatorname{M_{r}}{\\left(t \\right)} + m \\operatorname{M_{r}}^{2}{\\left(t \\right)} + 4 \\pi \\rho \\left(- 2 \\alpha \\phi \\operatorname{M_{r}}^{2}{\\left(t \\right)} + 2 m^{2} + m \\operatorname{M_{r}}{\\left(t \\right)}\\right) R^{3}{\\left(t \\right)}}\\right\\}$"
      ],
      "text/plain": [
       "⎧                                                         2                   \n",
       "⎪d                          -4⋅π⋅m⋅ρ⋅v⋅(m + Mᵣ(t))⋅Mᵣ(t)⋅R (t)                \n",
       "⎨──(Mᵣ(t)): ──────────────────────────────────────────────────────────────────\n",
       "⎪dt          2             2            ⎛          2         2          ⎞  3  \n",
       "⎩           m ⋅Mᵣ(t) + m⋅Mᵣ (t) + 4⋅π⋅ρ⋅⎝- 2⋅α⋅φ⋅Mᵣ (t) + 2⋅m  + m⋅Mᵣ(t)⎠⋅R (t\n",
       "\n",
       "                               ⎛          2         2          ⎞  3           \n",
       "   d                   4⋅π⋅ρ⋅v⋅⎝- 2⋅α⋅φ⋅Mᵣ (t) + 2⋅m  + m⋅Mᵣ(t)⎠⋅R (t)        \n",
       "─, ──(R(t)): ─────────────────────────────────────────────────────────────────\n",
       "   dt         2             2            ⎛          2         2          ⎞  3 \n",
       ")            m ⋅Mᵣ(t) + m⋅Mᵣ (t) + 4⋅π⋅ρ⋅⎝- 2⋅α⋅φ⋅Mᵣ (t) + 2⋅m  + m⋅Mᵣ(t)⎠⋅R (\n",
       "\n",
       "  ⎫\n",
       "  ⎪\n",
       "──⎬\n",
       "  ⎪\n",
       "t)⎭"
      ]
     },
     "execution_count": 66,
     "metadata": {},
     "output_type": "execute_result"
    }
   ],
   "source": [
    "aux_derivs = sympy.solve([M_r(t).diff(t) - M_r_dot_expr, R(t).diff(t)/R(t) - eqn_3],\n",
    "                         [M_r(t).diff(t), R(t).diff(t)], dict=True)[0]\n",
    "aux_derivs"
   ]
  },
  {
   "cell_type": "code",
   "execution_count": 67,
   "metadata": {},
   "outputs": [
    {
     "data": {
      "image/png": "[encoded data removed]",
      "text/latex": [
       "$\\displaystyle \\frac{\\operatorname{M_{r}}{\\left(t \\right)}}{m}$"
      ],
      "text/plain": [
       "Mᵣ(t)\n",
       "─────\n",
       "  m  "
      ]
     },
     "execution_count": 67,
     "metadata": {},
     "output_type": "execute_result"
    }
   ],
   "source": [
    "x_def = M_r(t)/m\n",
    "x_def"
   ]
  },
  {
   "cell_type": "code",
   "execution_count": 68,
   "metadata": {},
   "outputs": [
    {
     "data": {
      "image/png": "[encoded data removed]",
      "text/latex": [
       "$\\displaystyle \\frac{\\operatorname{M_{r}}{\\left(t \\right)}}{4 \\pi \\rho R^{3}{\\left(t \\right)}}$"
      ],
      "text/plain": [
       "   Mᵣ(t)   \n",
       "───────────\n",
       "       3   \n",
       "4⋅π⋅ρ⋅R (t)"
      ]
     },
     "execution_count": 68,
     "metadata": {},
     "output_type": "execute_result"
    }
   ],
   "source": [
    "y_def = M_r(t)/(4*sympy.pi*R(t)**3*rho)\n",
    "y_def"
   ]
  },
  {
   "cell_type": "code",
   "execution_count": 69,
   "metadata": {},
   "outputs": [
    {
     "data": {
      "image/png": "[encoded data removed]",
      "text/latex": [
       "$\\displaystyle \\frac{v \\left(- 2 \\alpha \\phi x^{2} + x + 2\\right)}{- 2 \\alpha \\phi x^{2} + x + y \\left(x + 1\\right) + 2}$"
      ],
      "text/plain": [
       "      ⎛         2        ⎞    \n",
       "    v⋅⎝- 2⋅α⋅φ⋅x  + x + 2⎠    \n",
       "──────────────────────────────\n",
       "         2                    \n",
       "- 2⋅α⋅φ⋅x  + x + y⋅(x + 1) + 2"
      ]
     },
     "execution_count": 69,
     "metadata": {},
     "output_type": "execute_result"
    }
   ],
   "source": [
    "x = sympy.Symbol('x', positive=True) # Auxiliary variable\n",
    "y = sympy.Symbol('y', positive=True) # Auxiliary variable\n",
    "temp = eqn_3*R(t)\n",
    "temp = temp.subs(aux_derivs)\n",
    "temp = temp.subs(sympy.solve(y-y_def,R(t),dict=True)[0])\n",
    "temp = temp.subs(M_r(t),x*m)\n",
    "temp = temp.simplify()\n",
    "eqn_4 = temp\n",
    "eqn_4"
   ]
  },
  {
   "cell_type": "code",
   "execution_count": 76,
   "metadata": {},
   "outputs": [
    {
     "data": {
      "image/png": "[encoded data removed]",
      "text/latex": [
       "$\\displaystyle \\frac{v \\left(- 2 \\alpha \\phi x + x + 2\\right)}{- 2 \\alpha \\phi x + x + y \\left(x + 1\\right) + 2}$"
      ],
      "text/plain": [
       "    v⋅(-2⋅α⋅φ⋅x + x + 2)    \n",
       "────────────────────────────\n",
       "-2⋅α⋅φ⋅x + x + y⋅(x + 1) + 2"
      ]
     },
     "execution_count": 76,
     "metadata": {},
     "output_type": "execute_result"
    }
   ],
   "source": [
    "temp = 2*alpha*phi*x**2/(1+x)/x\n",
    "temp += x/(1+x)\n",
    "temp -= 2\n",
    "temp = y/temp\n",
    "temp -= 1\n",
    "temp = -v/temp\n",
    "paper_eqn_4 = temp.simplify()\n",
    "paper_eqn_4"
   ]
  },
  {
   "cell_type": "code",
   "execution_count": 74,
   "metadata": {},
   "outputs": [
    {
     "data": {
      "image/png": "[encoded data removed]",
      "text/latex": [
       "$\\displaystyle \\frac{v \\left(2 \\alpha \\phi x^{2} - x - 2\\right)}{2 \\alpha \\phi x^{2} - x y - x - y - 2}$"
      ],
      "text/plain": [
       "     ⎛       2        ⎞   \n",
       "   v⋅⎝2⋅α⋅φ⋅x  - x - 2⎠   \n",
       "──────────────────────────\n",
       "       2                  \n",
       "2⋅α⋅φ⋅x  - x⋅y - x - y - 2"
      ]
     },
     "execution_count": 74,
     "metadata": {},
     "output_type": "execute_result"
    }
   ],
   "source": [
    "temp = 2*alpha*phi*x**2/(1+x)\n",
    "temp += x/(1+x)\n",
    "temp -= 2\n",
    "temp = y/temp\n",
    "temp -= 1\n",
    "temp = -v/temp\n",
    "corrected_paper_eqn_4 = temp.simplify()\n",
    "corrected_paper_eqn_4"
   ]
  },
  {
   "cell_type": "code",
   "execution_count": 75,
   "metadata": {},
   "outputs": [
    {
     "data": {
      "image/png": "[encoded data removed]",
      "text/latex": [
       "$\\displaystyle 1$"
      ],
      "text/plain": [
       "1"
      ]
     },
     "execution_count": 75,
     "metadata": {},
     "output_type": "execute_result"
    }
   ],
   "source": [
    "temp = paper_eqn_4/eqn_4\n",
    "temp.simplify()"
   ]
  },
  {
   "cell_type": "code",
   "execution_count": 78,
   "metadata": {},
   "outputs": [
    {
     "data": {
      "image/png": "[encoded data removed]",
      "text/latex": [
       "$\\displaystyle \\gamma \\omega^{2} \\rho \\left(1 - \\phi\\right)^{2} R^{5}{\\left(t \\right)} = \\alpha \\omega \\phi R^{2}{\\left(t \\right)} \\frac{d}{d t} \\operatorname{M_{r}}{\\left(t \\right)}$"
      ],
      "text/plain": [
       "   2          2  5             2    d        \n",
       "γ⋅ω ⋅ρ⋅(1 - φ) ⋅R (t) = α⋅ω⋅φ⋅R (t)⋅──(Mᵣ(t))\n",
       "                                    dt       "
      ]
     },
     "execution_count": 78,
     "metadata": {},
     "output_type": "execute_result"
    }
   ],
   "source": [
    "gamma = sympy.Symbol('gamma', positive=True) # Drag coefficient\n",
    "eqn_5 = sympy.Eq(gamma*rho*(1-phi)**2*omega**2*R(t)**5,\n",
    "                 alpha*M_r(t).diff(t)*phi*omega*R(t)**2)\n",
    "eqn_5"
   ]
  },
  {
   "cell_type": "code",
   "execution_count": 93,
   "metadata": {},
   "outputs": [
    {
     "data": {
      "image/png": "[encoded data removed]",
      "text/latex": [
       "$\\displaystyle \\frac{2 \\pi \\alpha y \\frac{d}{d t} \\operatorname{M_{r}}{\\left(t \\right)}}{\\gamma \\omega \\operatorname{M_{r}}{\\left(t \\right)}}$"
      ],
      "text/plain": [
       "        d        \n",
       "2⋅π⋅α⋅y⋅──(Mᵣ(t))\n",
       "        dt       \n",
       "─────────────────\n",
       "    γ⋅ω⋅Mᵣ(t)    "
      ]
     },
     "execution_count": 93,
     "metadata": {},
     "output_type": "execute_result"
    }
   ],
   "source": [
    "delta_def = alpha*y*M_r(t).diff(t)/(gamma*omega*M_r(t))*2*sympy.pi\n",
    "delta_def"
   ]
  },
  {
   "cell_type": "code",
   "execution_count": 95,
   "metadata": {},
   "outputs": [
    {
     "data": {
      "image/png": "[encoded data removed]",
      "text/latex": [
       "$\\displaystyle - \\sqrt{\\delta} \\sqrt{\\delta + 2} + \\delta + 1$"
      ],
      "text/plain": [
       "       _______        \n",
       "- √δ⋅╲╱ δ + 2  + δ + 1"
      ]
     },
     "execution_count": 95,
     "metadata": {},
     "output_type": "execute_result"
    }
   ],
   "source": [
    "delta = sympy.Symbol('delta', positive=True) # Auxiliary parameter\n",
    "temp = sympy.solve(eqn_5, phi)[0]\n",
    "temp = temp.subs(sympy.solve(delta-delta_def,M_r(t).diff(t),dict=True)[0])\n",
    "temp = temp.subs(sympy.solve(y-y_def,R(t),dict=True)[0])\n",
    "temp = temp.simplify()\n",
    "eqn_6 = temp\n",
    "eqn_6"
   ]
  },
  {
   "cell_type": "code",
   "execution_count": 107,
   "metadata": {},
   "outputs": [
    {
     "data": {
      "image/png": "[encoded data removed]",
      "text/latex": [
       "$\\displaystyle \\frac{x \\left(y + 1\\right) + y + 2}{2 \\alpha x^{2}}$"
      ],
      "text/plain": [
       "x⋅(y + 1) + y + 2\n",
       "─────────────────\n",
       "           2     \n",
       "      2⋅α⋅x      "
      ]
     },
     "execution_count": 107,
     "metadata": {},
     "output_type": "execute_result"
    }
   ],
   "source": [
    "temp = eqn_4\n",
    "temp = sympy.fraction(temp)[1]\n",
    "temp = sympy.solve(temp, phi)[0]\n",
    "temp = temp.simplify()\n",
    "eqn_7 = temp\n",
    "eqn_7"
   ]
  },
  {
   "cell_type": "code",
   "execution_count": null,
   "metadata": {},
   "outputs": [],
   "source": []
  }
 ],
 "metadata": {
  "kernelspec": {
   "display_name": "Python 3",
   "language": "python",
   "name": "python3"
  },
  "language_info": {
   "codemirror_mode": {
    "name": "ipython",
    "version": 3
   },
   "file_extension": ".py",
   "mimetype": "text/x-python",
   "name": "python",
   "nbconvert_exporter": "python",
   "pygments_lexer": "ipython3",
   "version": "3.7.3"
  }
 },
 "nbformat": 4,
 "nbformat_minor": 2
}
